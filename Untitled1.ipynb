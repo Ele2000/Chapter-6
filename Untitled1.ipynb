{
  "nbformat": 4,
  "nbformat_minor": 0,
  "metadata": {
    "colab": {
      "name": "Untitled1.ipynb",
      "provenance": [],
      "authorship_tag": "ABX9TyPJx2uLVz2IDRO4TqWu/Huz",
      "include_colab_link": true
    },
    "kernelspec": {
      "name": "python3",
      "display_name": "Python 3"
    },
    "language_info": {
      "name": "python"
    }
  },
  "cells": [
    {
      "cell_type": "markdown",
      "metadata": {
        "id": "view-in-github",
        "colab_type": "text"
      },
      "source": [
        "<a href=\"https://colab.research.google.com/github/Ele2000/Chapter-6/blob/main/Untitled1.ipynb\" target=\"_parent\"><img src=\"https://colab.research.google.com/assets/colab-badge.svg\" alt=\"Open In Colab\"/></a>"
      ]
    },
    {
      "cell_type": "markdown",
      "source": [
        "person"
      ],
      "metadata": {
        "id": "kRCr2OpNUsss"
      }
    },
    {
      "cell_type": "code",
      "source": [
        "person = {\n",
        "    'first_name': 'Elene',\n",
        "    'last_name': 'Kevlishvili',\n",
        "    'age': 21,\n",
        "    'city': 'Telavi',\n",
        "}\n",
        "\n",
        "first_name = person['first_name']\n",
        "last_name = person['last_name']\n",
        "age = person['age']\n",
        "city = person['city']\n",
        "\n",
        "print(first_name)\n",
        "print(last_name)\n",
        "print(age)\n",
        "print(city)"
      ],
      "metadata": {
        "colab": {
          "base_uri": "https://localhost:8080/"
        },
        "id": "UO_nBgC2Ut_b",
        "outputId": "41edb7e6-ac2e-4bba-8689-8bf8ad96549c"
      },
      "execution_count": 2,
      "outputs": [
        {
          "output_type": "stream",
          "name": "stdout",
          "text": [
            "Elene\n",
            "Kevlishvili\n",
            "21\n",
            "Telavi\n"
          ]
        }
      ]
    },
    {
      "cell_type": "markdown",
      "source": [
        "favorite_numbers"
      ],
      "metadata": {
        "id": "GwnMYj1SU9-P"
      }
    },
    {
      "cell_type": "code",
      "source": [
        "favorite_numbers = {\n",
        "    'Jack': 2,\n",
        "    'Josephine': 3,\n",
        "    'Shrek': 7,\n",
        "    'Erika': 8,\n",
        "    'Dominik': 9,\n",
        "}\n",
        "\n",
        "for names in favorite_numbers.keys():\n",
        "    print(names)\n",
        "\n",
        "for numbers in favorite_numbers.values():\n",
        "    print(numbers)"
      ],
      "metadata": {
        "colab": {
          "base_uri": "https://localhost:8080/"
        },
        "id": "SMwS17VhU-mw",
        "outputId": "63df1e13-19a7-4f4f-f2eb-1c6b637ee2c0"
      },
      "execution_count": 4,
      "outputs": [
        {
          "output_type": "stream",
          "name": "stdout",
          "text": [
            "Jack\n",
            "Josephine\n",
            "Shrek\n",
            "Erika\n",
            "Dominik\n",
            "2\n",
            "3\n",
            "7\n",
            "8\n",
            "9\n"
          ]
        }
      ]
    },
    {
      "cell_type": "markdown",
      "source": [
        "glossary"
      ],
      "metadata": {
        "id": "OyOJ2hK2VPK1"
      }
    },
    {
      "cell_type": "code",
      "source": [
        "glossary = {\n",
        "    'python': 'the coding programe',\n",
        "    'Python Strings': \"Strings in python are surrounded by either single quotation marks, or double quotation marks.\",\n",
        "    'Python Dictionaries': \"Dictionaries are used to store data values in key:value pairs.\",\n",
        "    'Python For Loops': \"A for loop is used for iterating over a sequence (that is either a list, a tuple, a dictionary, a set, or a string).\",\n",
        "    'pcc': 'the name of the book',\n",
        "}\n",
        "\n",
        "for words, meanings in glossary.items():\n",
        "    print(words + ': ' + meanings)"
      ],
      "metadata": {
        "colab": {
          "base_uri": "https://localhost:8080/"
        },
        "id": "dgzhX_ThVRhG",
        "outputId": "9640f580-0c67-47e5-fd5a-9bca4b307ada"
      },
      "execution_count": 10,
      "outputs": [
        {
          "output_type": "stream",
          "name": "stdout",
          "text": [
            "python: the coding programe\n",
            "Python Strings: Strings in python are surrounded by either single quotation marks, or double quotation marks.\n",
            "Python Dictionaries: Dictionaries are used to store data values in key:value pairs.\n",
            "Python For Loops: A for loop is used for iterating over a sequence (that is either a list, a tuple, a dictionary, a set, or a string).\n",
            "pcc: the name of the book\n"
          ]
        }
      ]
    },
    {
      "cell_type": "markdown",
      "source": [
        "rivers"
      ],
      "metadata": {
        "id": "2CwCagrSVvI6"
      }
    },
    {
      "cell_type": "code",
      "source": [
        "rivers = {\n",
        "    'Mtkvari': 'Georgia',\n",
        "    'Amazon': 'Brazil',\n",
        "    'Misisipi': 'Canada',\n",
        "}\n",
        "\n",
        "for river, country in rivers.items():\n",
        "  print('The ' + river + ' runs throught ' + country)\n",
        "  print(river)\n",
        "  print(country)"
      ],
      "metadata": {
        "colab": {
          "base_uri": "https://localhost:8080/"
        },
        "id": "btLzM1R9Vx43",
        "outputId": "6b0a26ad-a161-40f7-8202-2661f279bb3c"
      },
      "execution_count": 11,
      "outputs": [
        {
          "output_type": "stream",
          "name": "stdout",
          "text": [
            "The Mtkvari runs throught Georgia\n",
            "Mtkvari\n",
            "Georgia\n",
            "The Amazon runs throught Brazil\n",
            "Amazon\n",
            "Brazil\n",
            "The Misisipi runs throught Canada\n",
            "Misisipi\n",
            "Canada\n"
          ]
        }
      ]
    },
    {
      "cell_type": "markdown",
      "source": [
        "polling"
      ],
      "metadata": {
        "id": "vtVXFHEEZ5uz"
      }
    },
    {
      "cell_type": "code",
      "source": [
        "favorite_languages = {\n",
        "    'English': 'German',\n",
        "    'Python': 'French',\n",
        "    'Japan': 'Chines',\n",
        "    'Portugal': 'python',\n",
        "}\n",
        "\n",
        "for name in favorite_languages.keys():\n",
        "  print(name.title())\n",
        "\n",
        "new_people = {\n",
        "    'Sara': 'java',\n",
        "    'jen': 'python',\n",
        "    'Mike': 'c',\n",
        "    'mary': 'java',\n",
        "    'edward': 'ruby'\n",
        "}\n",
        "\n",
        "for name in favorite_languages.keys():\n",
        "  print(name.title() + ', thank you for taking the poll.' )\n",
        "\n",
        "for new_person in new_people:\n",
        "    if new_person in favorite_languages:\n",
        "        print(new_person + ', thank you for responding.')\n",
        "    else:\n",
        "        print(new_person + ', we invite you to take poll.')"
      ],
      "metadata": {
        "colab": {
          "base_uri": "https://localhost:8080/"
        },
        "id": "HDqHoihfZ9w9",
        "outputId": "4185a462-31a2-4670-ad68-dfdad86fb114"
      },
      "execution_count": 17,
      "outputs": [
        {
          "output_type": "stream",
          "name": "stdout",
          "text": [
            "English\n",
            "Python\n",
            "Japan\n",
            "Portugal\n",
            "English, thank you for taking the poll.\n",
            "Python, thank you for taking the poll.\n",
            "Japan, thank you for taking the poll.\n",
            "Portugal, thank you for taking the poll.\n",
            "Sara, we invite you to take poll.\n",
            "jen, we invite you to take poll.\n",
            "Mike, we invite you to take poll.\n",
            "mary, we invite you to take poll.\n",
            "edward, we invite you to take poll.\n"
          ]
        }
      ]
    },
    {
      "cell_type": "markdown",
      "source": [
        "Pets"
      ],
      "metadata": {
        "id": "WvMalXqhbHK6"
      }
    },
    {
      "cell_type": "code",
      "source": [
        "pets = {\n",
        "    'Tedy': {\n",
        "        'animal': 'cat',\n",
        "        'owner': 'Tamuna',\n",
        "    },\n",
        "    'Max': {\n",
        "        'animal': \"dog\",\n",
        "        'owner': 'Salome'\n",
        "    },\n",
        "}\n",
        "\n",
        "print(pets)\n"
      ],
      "metadata": {
        "colab": {
          "base_uri": "https://localhost:8080/"
        },
        "id": "QbvLBMuDbLXN",
        "outputId": "7021ef98-085d-40ba-e92a-2e65315bf9d8"
      },
      "execution_count": 20,
      "outputs": [
        {
          "output_type": "stream",
          "name": "stdout",
          "text": [
            "{'Tedy': {'animal': 'cat', 'owner': 'Tamuna'}, 'Max': {'animal': 'dog', 'owner': 'Salome'}}\n"
          ]
        }
      ]
    },
    {
      "cell_type": "markdown",
      "source": [
        "Favorite_places"
      ],
      "metadata": {
        "id": "3A7OjOPyboEM"
      }
    },
    {
      "cell_type": "code",
      "source": [
        "favorite_places = {\n",
        "    'Edward': ['Moscow', 'Berlin'],\n",
        "    'Bella': ['New York', 'Paris', 'with Edward'],\n",
        "    'Sally': ['with Bella'],\n",
        "}\n",
        "for name, places in favorite_places.items():\n",
        "  print(name + ': ')\n",
        "  for place in places:\n",
        "    print('- ' + place)"
      ],
      "metadata": {
        "colab": {
          "base_uri": "https://localhost:8080/"
        },
        "id": "MqMkHylsbq5e",
        "outputId": "eb3a495c-5331-4048-f04e-94e95b955537"
      },
      "execution_count": 22,
      "outputs": [
        {
          "output_type": "stream",
          "name": "stdout",
          "text": [
            "Edward: \n",
            "- Moscow\n",
            "- Berlin\n",
            "Bella: \n",
            "- New York\n",
            "- Paris\n",
            "- with Edward\n",
            "Sally: \n",
            "- with Bella\n"
          ]
        }
      ]
    },
    {
      "cell_type": "markdown",
      "source": [
        "cities"
      ],
      "metadata": {
        "id": "j5Y7YYpVcZX3"
      }
    },
    {
      "cell_type": "code",
      "source": [
        "cities = {\n",
        "    'Tbilisi': {\n",
        "        'country': 'Georgia',\n",
        "        'population': '1,1 million',\n",
        "        'fact': 'fact 1',\n",
        "    },\n",
        "    'Paris': {\n",
        "        'country': 'France',\n",
        "        'population': '2,1 million',\n",
        "        'fact': 'fact 2',\n",
        "    },\n",
        "    'Moscow': {\n",
        "        'country': 'Russia',\n",
        "        'population': '11,9 million',\n",
        "        'fact': 'fact 3',\n",
        "    },\n",
        "}\n",
        "\n",
        "print(cities)"
      ],
      "metadata": {
        "colab": {
          "base_uri": "https://localhost:8080/"
        },
        "id": "Ef8CAJDwcdTs",
        "outputId": "62be6b6b-fe71-45fe-8ac3-94bffbe8d074"
      },
      "execution_count": 24,
      "outputs": [
        {
          "output_type": "stream",
          "name": "stdout",
          "text": [
            "{'Tbilisi': {'country': 'Georgia', 'population': '1,1 million', 'fact': 'fact 1'}, 'Paris': {'country': 'France', 'population': '2,1 million', 'fact': 'fact 2'}, 'Moscow': {'country': 'Russia', 'population': '11,9 million', 'fact': 'fact 3'}}\n"
          ]
        }
      ]
    }
  ]
}